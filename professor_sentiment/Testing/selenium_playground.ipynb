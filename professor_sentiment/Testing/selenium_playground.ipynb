{
 "cells": [
  {
   "cell_type": "code",
   "execution_count": 1,
   "metadata": {},
   "outputs": [],
   "source": [
    "from selenium import webdriver\n",
    "from selenium.webdriver.common.by import By\n",
    "from selenium.webdriver.common.keys import Keys\n",
    "from selenium.common import NoSuchElementException, ElementNotInteractableException\n",
    "from selenium.webdriver.support.wait import WebDriverWait\n",
    "from selenium.webdriver.support import expected_conditions as EC\n",
    "import time\n",
    "import numpy as np"
   ]
  },
  {
   "cell_type": "code",
   "execution_count": 8,
   "metadata": {},
   "outputs": [],
   "source": [
    "driver =webdriver.Firefox()"
   ]
  },
  {
   "cell_type": "code",
   "execution_count": 11,
   "metadata": {},
   "outputs": [],
   "source": [
    "#university of texas at austin\n",
    "# driver.get(\"https://www.ratemyprofessors.com/search/professors/1255?q=*\")\n",
    "\n",
    "#harvey mudd college\n",
    "driver.get(\"https://www.ratemyprofessors.com/search/professors/400?q=*\")"
   ]
  },
  {
   "cell_type": "code",
   "execution_count": 13,
   "metadata": {},
   "outputs": [],
   "source": [
    "#getting a professor\n",
    "driver.get(\"https://www.ratemyprofessors.com/professor/54889\")"
   ]
  },
  {
   "cell_type": "code",
   "execution_count": 12,
   "metadata": {},
   "outputs": [],
   "source": [
    "#closes the popup for cookies\n",
    "driver.find_element(By.XPATH, \"//div[starts-with(@class, 'FullPageModal__')]//button\").click()"
   ]
  },
  {
   "cell_type": "code",
   "execution_count": 73,
   "metadata": {},
   "outputs": [
    {
     "name": "stdout",
     "output_type": "stream",
     "text": [
      "professor count is 139\n"
     ]
    }
   ],
   "source": [
    "#number of professors\n",
    "professor_count = driver.find_element(By.XPATH, \"//h1[starts-with(@data-testid, 'pagination-header')]\")\n",
    "professor_number = int(professor_count.text.split()[0])\n",
    "print(f'professor count is {professor_number}')"
   ]
  },
  {
   "cell_type": "code",
   "execution_count": 74,
   "metadata": {},
   "outputs": [
    {
     "name": "stdout",
     "output_type": "stream",
     "text": [
      "reloads needed: 17\n"
     ]
    }
   ],
   "source": [
    "#button for getting all the professors listed\n",
    "if professor_number >8:\n",
    "    reloads_needed = int(np.ceil((professor_number-8)/8))\n",
    "else:\n",
    "    reloads_needed = 0\n",
    "\n",
    "print(f'reloads needed: {reloads_needed}')\n",
    "\n",
    "#objects needed\n",
    "load_more_button = driver.find_element(By.XPATH, \"//button[starts-with(@class, 'Buttons__Button-sc')]\")\n",
    "wait = WebDriverWait(driver, timeout = 3)\n",
    "\n",
    "for i in range(reloads_needed):\n",
    "    y_scroll_offset = 80\n",
    "    wait.until(lambda d : load_more_button.is_displayed())\n",
    "    button_y_position = load_more_button.rect['y']-y_scroll_offset\n",
    "    driver.execute_script(f\"window.scrollTo(0, {button_y_position})\")\n",
    "    load_more_button.click()\n",
    "\n",
    "    "
   ]
  },
  {
   "cell_type": "code",
   "execution_count": 76,
   "metadata": {},
   "outputs": [
    {
     "name": "stdout",
     "output_type": "stream",
     "text": [
      "the number of professor urls is 125\n",
      "['https://www.ratemyprofessors.com/professor/54889', 'https://www.ratemyprofessors.com/professor/75255', 'https://www.ratemyprofessors.com/professor/75257', 'https://www.ratemyprofessors.com/professor/140223', 'https://www.ratemyprofessors.com/professor/140225', 'https://www.ratemyprofessors.com/professor/140227', 'https://www.ratemyprofessors.com/professor/140242', 'https://www.ratemyprofessors.com/professor/142153', 'https://www.ratemyprofessors.com/professor/142164', 'https://www.ratemyprofessors.com/professor/144510', 'https://www.ratemyprofessors.com/professor/144515', 'https://www.ratemyprofessors.com/professor/144538', 'https://www.ratemyprofessors.com/professor/144792', 'https://www.ratemyprofessors.com/professor/144876', 'https://www.ratemyprofessors.com/professor/147485', 'https://www.ratemyprofessors.com/professor/188034', 'https://www.ratemyprofessors.com/professor/236814', 'https://www.ratemyprofessors.com/professor/308675', 'https://www.ratemyprofessors.com/professor/311951', 'https://www.ratemyprofessors.com/professor/351835', 'https://www.ratemyprofessors.com/professor/407041', 'https://www.ratemyprofessors.com/professor/509410', 'https://www.ratemyprofessors.com/professor/509774', 'https://www.ratemyprofessors.com/professor/595246', 'https://www.ratemyprofessors.com/professor/635876', 'https://www.ratemyprofessors.com/professor/761222', 'https://www.ratemyprofessors.com/professor/769356', 'https://www.ratemyprofessors.com/professor/782381', 'https://www.ratemyprofessors.com/professor/931554', 'https://www.ratemyprofessors.com/professor/1109287', 'https://www.ratemyprofessors.com/professor/1124019', 'https://www.ratemyprofessors.com/professor/1146835', 'https://www.ratemyprofessors.com/professor/1244755', 'https://www.ratemyprofessors.com/professor/1247930', 'https://www.ratemyprofessors.com/professor/1284564', 'https://www.ratemyprofessors.com/professor/1518160', 'https://www.ratemyprofessors.com/professor/1712715', 'https://www.ratemyprofessors.com/professor/1737359', 'https://www.ratemyprofessors.com/professor/1763387', 'https://www.ratemyprofessors.com/professor/1842479', 'https://www.ratemyprofessors.com/professor/1855047', 'https://www.ratemyprofessors.com/professor/1855541', 'https://www.ratemyprofessors.com/professor/1911033', 'https://www.ratemyprofessors.com/professor/2010850', 'https://www.ratemyprofessors.com/professor/2071010', 'https://www.ratemyprofessors.com/professor/2135501', 'https://www.ratemyprofessors.com/professor/2144456', 'https://www.ratemyprofessors.com/professor/2151946', 'https://www.ratemyprofessors.com/professor/2295254', 'https://www.ratemyprofessors.com/professor/2301043', 'https://www.ratemyprofessors.com/professor/2349393', 'https://www.ratemyprofessors.com/professor/2422691', 'https://www.ratemyprofessors.com/professor/2445804', 'https://www.ratemyprofessors.com/professor/2478837', 'https://www.ratemyprofessors.com/professor/2484195', 'https://www.ratemyprofessors.com/professor/2484561', 'https://www.ratemyprofessors.com/professor/2495362', 'https://www.ratemyprofessors.com/professor/2553953', 'https://www.ratemyprofessors.com/professor/2584104', 'https://www.ratemyprofessors.com/professor/2584105', 'https://www.ratemyprofessors.com/professor/2592720', 'https://www.ratemyprofessors.com/professor/2601494', 'https://www.ratemyprofessors.com/professor/2628618', 'https://www.ratemyprofessors.com/professor/2634190', 'https://www.ratemyprofessors.com/professor/144869', 'https://www.ratemyprofessors.com/professor/2484558', 'https://www.ratemyprofessors.com/professor/1981390', 'https://www.ratemyprofessors.com/professor/2430906', 'https://www.ratemyprofessors.com/professor/144755', 'https://www.ratemyprofessors.com/professor/2662966', 'https://www.ratemyprofessors.com/professor/2489782', 'https://www.ratemyprofessors.com/professor/768377', 'https://www.ratemyprofessors.com/professor/1049980', 'https://www.ratemyprofessors.com/professor/2364639', 'https://www.ratemyprofessors.com/professor/1740761', 'https://www.ratemyprofessors.com/professor/2590687', 'https://www.ratemyprofessors.com/professor/2675877', 'https://www.ratemyprofessors.com/professor/2684448', 'https://www.ratemyprofessors.com/professor/2641887', 'https://www.ratemyprofessors.com/professor/147484', 'https://www.ratemyprofessors.com/professor/146859', 'https://www.ratemyprofessors.com/professor/144864', 'https://www.ratemyprofessors.com/professor/782386', 'https://www.ratemyprofessors.com/professor/144504', 'https://www.ratemyprofessors.com/professor/2403412', 'https://www.ratemyprofessors.com/professor/188029', 'https://www.ratemyprofessors.com/professor/322363', 'https://www.ratemyprofessors.com/professor/875439', 'https://www.ratemyprofessors.com/professor/1919429', 'https://www.ratemyprofessors.com/professor/312643', 'https://www.ratemyprofessors.com/professor/144493', 'https://www.ratemyprofessors.com/professor/142149', 'https://www.ratemyprofessors.com/professor/145016', 'https://www.ratemyprofessors.com/professor/2356546', 'https://www.ratemyprofessors.com/professor/2723631', 'https://www.ratemyprofessors.com/professor/2584027', 'https://www.ratemyprofessors.com/professor/142161', 'https://www.ratemyprofessors.com/professor/144533', 'https://www.ratemyprofessors.com/professor/144498', 'https://www.ratemyprofessors.com/professor/140226', 'https://www.ratemyprofessors.com/professor/144487', 'https://www.ratemyprofessors.com/professor/2736814', 'https://www.ratemyprofessors.com/professor/2015883', 'https://www.ratemyprofessors.com/professor/1737365', 'https://www.ratemyprofessors.com/professor/2769956', 'https://www.ratemyprofessors.com/professor/2768110', 'https://www.ratemyprofessors.com/professor/2855011', 'https://www.ratemyprofessors.com/professor/2856313', 'https://www.ratemyprofessors.com/professor/2858574', 'https://www.ratemyprofessors.com/professor/2864722', 'https://www.ratemyprofessors.com/professor/2706901', 'https://www.ratemyprofessors.com/professor/2486018', 'https://www.ratemyprofessors.com/professor/2889912', 'https://www.ratemyprofessors.com/professor/2909780', 'https://www.ratemyprofessors.com/professor/2426488', 'https://www.ratemyprofessors.com/professor/2732247', 'https://www.ratemyprofessors.com/professor/188032', 'https://www.ratemyprofessors.com/professor/722310', 'https://www.ratemyprofessors.com/professor/313378', 'https://www.ratemyprofessors.com/professor/2355292', 'https://www.ratemyprofessors.com/professor/2106889', 'https://www.ratemyprofessors.com/professor/2930247', 'https://www.ratemyprofessors.com/professor/2930250', 'https://www.ratemyprofessors.com/professor/2944666', 'https://www.ratemyprofessors.com/professor/2945207']\n"
     ]
    }
   ],
   "source": [
    "#getting all the professor urls\n",
    "teacher_cards = driver.find_elements(By.XPATH, \"//a[starts-with(@class, 'TeacherCard__StyledTeacherCard')]\")\n",
    "professor_urls=[]\n",
    "for i in teacher_cards:\n",
    "    professor_urls.append(i.get_attribute(\"href\"))\n",
    "print(f'the number of professor urls is {len(professor_urls)}')\n",
    "print(professor_urls)"
   ]
  },
  {
   "cell_type": "code",
   "execution_count": 60,
   "metadata": {},
   "outputs": [],
   "source": [
    "#finding scroll distances\n",
    "y_scroll_offset = 80\n",
    "load_more_button = driver.find_element(By.XPATH, \"//button[starts-with(@class, 'Buttons__Button-sc')]\")\n",
    "button_y_position = load_more_button.rect['y']-y_scroll_offset"
   ]
  },
  {
   "cell_type": "code",
   "execution_count": 34,
   "metadata": {},
   "outputs": [],
   "source": [
    "load_more_button = driver.find_element(By.XPATH, \"//button[starts-with(@class, 'Buttons__Button-sc')]\")\n",
    "driver.execute_script(\"window.scrollTo(0, document.body.scrollHeight)\")"
   ]
  },
  {
   "cell_type": "code",
   "execution_count": 61,
   "metadata": {},
   "outputs": [],
   "source": [
    "#scroll to where the button is\n",
    "driver.execute_script(f\"window.scrollTo(0, {button_y_position})\")"
   ]
  },
  {
   "cell_type": "code",
   "execution_count": 62,
   "metadata": {},
   "outputs": [],
   "source": [
    "#button for getting more\n",
    "driver.find_element(By.XPATH, \"//button[starts-with(@class, 'Buttons__Button-sc')]\").click()"
   ]
  },
  {
   "cell_type": "code",
   "execution_count": 15,
   "metadata": {},
   "outputs": [],
   "source": [
    "teacher_cards = driver.find_elements(By.XPATH, \"//a[starts-with(@class, 'TeacherCard__StyledTeacherCard')]\")"
   ]
  },
  {
   "cell_type": "code",
   "execution_count": 17,
   "metadata": {},
   "outputs": [
    {
     "name": "stdout",
     "output_type": "stream",
     "text": [
      "66\n"
     ]
    }
   ],
   "source": [
    "print(len(teacher_cards))"
   ]
  },
  {
   "cell_type": "code",
   "execution_count": 19,
   "metadata": {},
   "outputs": [],
   "source": [
    "teacher_urls=[]\n",
    "for i in teacher_cards:\n",
    "    teacher_urls.append(i.get_attribute(\"href\"))"
   ]
  },
  {
   "cell_type": "code",
   "execution_count": 20,
   "metadata": {},
   "outputs": [
    {
     "name": "stdout",
     "output_type": "stream",
     "text": [
      "['https://www.ratemyprofessors.com/professor/8487', 'https://www.ratemyprofessors.com/professor/8489', 'https://www.ratemyprofessors.com/professor/8491', 'https://www.ratemyprofessors.com/professor/17503', 'https://www.ratemyprofessors.com/professor/20603', 'https://www.ratemyprofessors.com/professor/27227', 'https://www.ratemyprofessors.com/professor/32179', 'https://www.ratemyprofessors.com/professor/41587', 'https://www.ratemyprofessors.com/professor/63394', 'https://www.ratemyprofessors.com/professor/73864', 'https://www.ratemyprofessors.com/professor/77601', 'https://www.ratemyprofessors.com/professor/77719', 'https://www.ratemyprofessors.com/professor/91833', 'https://www.ratemyprofessors.com/professor/106585', 'https://www.ratemyprofessors.com/professor/106855', 'https://www.ratemyprofessors.com/professor/111516', 'https://www.ratemyprofessors.com/professor/129656', 'https://www.ratemyprofessors.com/professor/130710', 'https://www.ratemyprofessors.com/professor/131093', 'https://www.ratemyprofessors.com/professor/131399', 'https://www.ratemyprofessors.com/professor/131647', 'https://www.ratemyprofessors.com/professor/133946', 'https://www.ratemyprofessors.com/professor/135406', 'https://www.ratemyprofessors.com/professor/138781', 'https://www.ratemyprofessors.com/professor/138812', 'https://www.ratemyprofessors.com/professor/145509', 'https://www.ratemyprofessors.com/professor/147897', 'https://www.ratemyprofessors.com/professor/148592', 'https://www.ratemyprofessors.com/professor/148607', 'https://www.ratemyprofessors.com/professor/156417', 'https://www.ratemyprofessors.com/professor/158263', 'https://www.ratemyprofessors.com/professor/170876', 'https://www.ratemyprofessors.com/professor/170880', 'https://www.ratemyprofessors.com/professor/174272', 'https://www.ratemyprofessors.com/professor/178405', 'https://www.ratemyprofessors.com/professor/199094', 'https://www.ratemyprofessors.com/professor/199916', 'https://www.ratemyprofessors.com/professor/203193', 'https://www.ratemyprofessors.com/professor/225936', 'https://www.ratemyprofessors.com/professor/225946', 'https://www.ratemyprofessors.com/professor/235291', 'https://www.ratemyprofessors.com/professor/235292', 'https://www.ratemyprofessors.com/professor/235293', 'https://www.ratemyprofessors.com/professor/235296', 'https://www.ratemyprofessors.com/professor/235966', 'https://www.ratemyprofessors.com/professor/244234', 'https://www.ratemyprofessors.com/professor/252823', 'https://www.ratemyprofessors.com/professor/258445', 'https://www.ratemyprofessors.com/professor/259564', 'https://www.ratemyprofessors.com/professor/259668', 'https://www.ratemyprofessors.com/professor/259669', 'https://www.ratemyprofessors.com/professor/259676', 'https://www.ratemyprofessors.com/professor/261552', 'https://www.ratemyprofessors.com/professor/261556', 'https://www.ratemyprofessors.com/professor/264776', 'https://www.ratemyprofessors.com/professor/276920', 'https://www.ratemyprofessors.com/professor/287473', 'https://www.ratemyprofessors.com/professor/308314', 'https://www.ratemyprofessors.com/professor/317580', 'https://www.ratemyprofessors.com/professor/332294', 'https://www.ratemyprofessors.com/professor/336104', 'https://www.ratemyprofessors.com/professor/336588', 'https://www.ratemyprofessors.com/professor/342318', 'https://www.ratemyprofessors.com/professor/345181', 'https://www.ratemyprofessors.com/professor/355052', 'https://www.ratemyprofessors.com/professor/358285']\n"
     ]
    }
   ],
   "source": [
    "print(teacher_urls)"
   ]
  }
 ],
 "metadata": {
  "kernelspec": {
   "display_name": "Python 3",
   "language": "python",
   "name": "python3"
  },
  "language_info": {
   "codemirror_mode": {
    "name": "ipython",
    "version": 3
   },
   "file_extension": ".py",
   "mimetype": "text/x-python",
   "name": "python",
   "nbconvert_exporter": "python",
   "pygments_lexer": "ipython3",
   "version": "3.10.12"
  }
 },
 "nbformat": 4,
 "nbformat_minor": 2
}
